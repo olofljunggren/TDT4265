{
 "cells": [
  {
   "cell_type": "markdown",
   "metadata": {},
   "source": [
    "# Assignment 2 Report Olof Ljunggren 2024-02-22"
   ]
  },
  {
   "cell_type": "markdown",
   "metadata": {},
   "source": [
    "# Task 1"
   ]
  },
  {
   "cell_type": "markdown",
   "metadata": {},
   "source": [
    "## Task 1a)\n",
    "\n",
    "<img src=\"Task1a.jpg\" alt=\"Derivation for weight update.\" name=\"Derivation for weight update.\" width=\"600\"/>"
   ]
  },
  {
   "cell_type": "markdown",
   "metadata": {},
   "source": [
    "## Task 1b)\n",
    "\n",
    "<img src=\"Task1b.jpg\" alt=\"Vectorization for weight update.\" name=\"Vectorization for weight update.\" width=\"600\"/>"
   ]
  },
  {
   "cell_type": "markdown",
   "metadata": {},
   "source": [
    "# Task 2"
   ]
  },
  {
   "cell_type": "markdown",
   "metadata": {},
   "source": [
    "## Task 2a)\n",
    "A mean and standard deviation for the entire dataset used was calculated in the file normalization.py. There we found that mean = 33.55274553571429 and std = 78.87550070784701."
   ]
  },
  {
   "cell_type": "markdown",
   "metadata": {},
   "source": [
    "## Task 2b)\n",
    "Forward and backward functions were implemented. This was in a way that could manage multiple nodes."
   ]
  },
  {
   "cell_type": "markdown",
   "metadata": {},
   "source": [
    "## Task 2c)\n",
    "<img src=\"task2c_train_loss.png\" alt=\"Train loss.\" name=\"Train loss.\" width=\"1000\"/>"
   ]
  },
  {
   "cell_type": "markdown",
   "metadata": {},
   "source": [
    "## Task 2d)\n",
    "In total there should be 285 * 64 + 64 * 10 weights = 18880. We also saved results from intermediate results for backward propagation, this is 32 * 285 + 32 * 64, minibatch with 32 numbers and 285 inputs to hidden layer and 64 inputs to output layer."
   ]
  },
  {
   "cell_type": "markdown",
   "metadata": {},
   "source": [
    "# Task 3\n",
    "\n",
    "In this third task I implemented better weight initialization, an improved sigmoid and finally gradient momentum. \n",
    "\n",
    "1. Improved weight initialization: as we can see in the plot the gaussian distributed weights gave quite better results. We can notice that the validation seems to stabilize around 10000 training steps instead of still improving around 30000 as in task 2c. Also its seems like the weights converged to a little bit better result, more accurate classification. We reached 95% accuracy in ~5000 repetitions.\n",
    "\n",
    "2. Improved sigmoid: also here the convergence speed seemed to improved quite significantly. Now we reached 95% accuracy in ~2000 repetitions compared to ~5000 repetitions in the previous subtask. Though, the overall accuracy does not seems to improve that much.\n",
    "\n",
    "3. Momentum: the momentum further more improvec the convergence speed. Now we reached 95% accuracy in ~1000 repetitions, around half the repetitions from the previous task. Also here the final accuracy does not seem to improve. Almost the opposite, which kind of makes sense since we are not only using the correct gradient. This also gives a jumpy behavior.\n",
    "\n",
    "Finally all of these 3 we still have tendecies of overfitting. This is though more likely because of the number of hidden layers / nodes in the hidden layer in this case. "
   ]
  },
  {
   "cell_type": "markdown",
   "metadata": {},
   "source": [
    "## Task 3a)\n",
    "<img src=\"task3a.png\" alt=\"Train loss with improved weight init.\" name=\"Train loss with improved weight init.\" width=\"1000\"/>"
   ]
  },
  {
   "cell_type": "markdown",
   "metadata": {},
   "source": [
    "## Task 3b)\n",
    "<img src=\"task3b.png\" alt=\"Train loss with improved sigmoid.\" name=\"Train loss with improved sigmoid.\" width=\"1000\"/>"
   ]
  },
  {
   "cell_type": "markdown",
   "metadata": {},
   "source": [
    "## Task 3c)\n",
    "<img src=\"task3c.png\" alt=\"Train loss with momentum.\" name=\"Train loss with momentum.\" width=\"1000\"/>"
   ]
  },
  {
   "cell_type": "markdown",
   "metadata": {},
   "source": [
    "# Task 4"
   ]
  },
  {
   "cell_type": "markdown",
   "metadata": {},
   "source": [
    "## Task 4a)\n",
    "\n",
    "FILL IN ANSWER. "
   ]
  },
  {
   "cell_type": "markdown",
   "metadata": {},
   "source": [
    "## Task 4b)\n",
    "FILL IN ANSWER\n"
   ]
  },
  {
   "cell_type": "markdown",
   "metadata": {},
   "source": [
    "## Task 4d)\n",
    "FILL IN ANSWER"
   ]
  },
  {
   "cell_type": "markdown",
   "metadata": {},
   "source": [
    "## Task 4e)\n",
    "FILL IN ANSWER"
   ]
  }
 ],
 "metadata": {
  "kernelspec": {
   "display_name": "Python 3.8.1 64-bit ('py38': conda)",
   "language": "python",
   "name": "python38164bitpy38condac1f68ca5407a4349b0d7e37676f2fbb3"
  },
  "language_info": {
   "codemirror_mode": {
    "name": "ipython",
    "version": 3
   },
   "file_extension": ".py",
   "mimetype": "text/x-python",
   "name": "python",
   "nbconvert_exporter": "python",
   "pygments_lexer": "ipython3",
   "version": "3.8.1"
  }
 },
 "nbformat": 4,
 "nbformat_minor": 4
}
